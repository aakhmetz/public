{
 "cells": [
  {
   "cell_type": "markdown",
   "metadata": {},
   "source": [
    "# Do we have any symbolic algebra in ***R***?\n",
    "\n",
    "***R*** is not good with symbolic computation. You may use the implementation of **Yacas** (*Yet another computer algebra system*)"
   ]
  },
  {
   "cell_type": "code",
   "execution_count": 1,
   "metadata": {
    "collapsed": true
   },
   "outputs": [],
   "source": [
    "library(\"Ryacas\")"
   ]
  },
  {
   "cell_type": "code",
   "execution_count": 2,
   "metadata": {},
   "outputs": [
    {
     "data": {
      "text/plain": [
       "expression(-4 * x)"
      ]
     },
     "metadata": {},
     "output_type": "display_data"
    }
   ],
   "source": [
    "yacas(\"Taylor(x,0,1) Exp(-4*x)-1\")"
   ]
  },
  {
   "cell_type": "code",
   "execution_count": 3,
   "metadata": {},
   "outputs": [
    {
     "data": {
      "text/plain": [
       "expression(-4 * x + 9 * x^2 + -44 * x^3/3)"
      ]
     },
     "metadata": {},
     "output_type": "display_data"
    }
   ],
   "source": [
    "yacas(\"Taylor(x,0,3) Exp(-4*x+x^2)-1\")"
   ]
  },
  {
   "cell_type": "markdown",
   "metadata": {},
   "source": [
    "# Example 1: stability analysis using Jacobian"
   ]
  },
  {
   "cell_type": "code",
   "execution_count": 4,
   "metadata": {
    "collapsed": true
   },
   "outputs": [],
   "source": [
    "library(\"rootSolve\")"
   ]
  },
  {
   "cell_type": "code",
   "execution_count": 5,
   "metadata": {
    "collapsed": true
   },
   "outputs": [],
   "source": [
    "func = function(t = 0, x, parms = NULL)\n",
    "{\n",
    " dx1 = 1-2*x[1]-x[2]^2\n",
    " dx2 = exp(-4*x[1])-1\n",
    " return(as.list(c(dx1,dx2)))\n",
    "}"
   ]
  },
  {
   "cell_type": "code",
   "execution_count": 6,
   "metadata": {},
   "outputs": [
    {
     "data": {
      "text/html": [
       "<table>\n",
       "<tbody>\n",
       "\t<tr><td>-2</td><td>-2</td></tr>\n",
       "\t<tr><td>-4</td><td> 0</td></tr>\n",
       "</tbody>\n",
       "</table>\n"
      ],
      "text/latex": [
       "\\begin{tabular}{ll}\n",
       "\t -2 & -2\\\\\n",
       "\t -4 &  0\\\\\n",
       "\\end{tabular}\n"
      ],
      "text/markdown": [
       "\n",
       "| -2 | -2 | \n",
       "| -4 |  0 | \n",
       "\n",
       "\n"
      ],
      "text/plain": [
       "     [,1] [,2]\n",
       "[1,] -2   -2  \n",
       "[2,] -4    0  "
      ]
     },
     "metadata": {},
     "output_type": "display_data"
    }
   ],
   "source": [
    "A = jacobian.full(y = c(0,1), func = func)\n",
    "A"
   ]
  },
  {
   "cell_type": "code",
   "execution_count": 7,
   "metadata": {},
   "outputs": [
    {
     "data": {
      "text/html": [
       "<dl>\n",
       "\t<dt>$values</dt>\n",
       "\t\t<dd><ol class=list-inline>\n",
       "\t<li>-3.99999996458789</li>\n",
       "\t<li>1.9999999656406</li>\n",
       "</ol>\n",
       "</dd>\n",
       "\t<dt>$vectors</dt>\n",
       "\t\t<dd><table>\n",
       "<tbody>\n",
       "\t<tr><td>-0.7071068</td><td> 0.4472136</td></tr>\n",
       "\t<tr><td>-0.7071068</td><td>-0.8944272</td></tr>\n",
       "</tbody>\n",
       "</table>\n",
       "</dd>\n",
       "</dl>\n"
      ],
      "text/latex": [
       "\\begin{description}\n",
       "\\item[\\$values] \\begin{enumerate*}\n",
       "\\item -3.99999996458789\n",
       "\\item 1.9999999656406\n",
       "\\end{enumerate*}\n",
       "\n",
       "\\item[\\$vectors] \\begin{tabular}{ll}\n",
       "\t -0.7071068 &  0.4472136\\\\\n",
       "\t -0.7071068 & -0.8944272\\\\\n",
       "\\end{tabular}\n",
       "\n",
       "\\end{description}\n"
      ],
      "text/markdown": [
       "$values\n",
       ":   1. -3.99999996458789\n",
       "2. 1.9999999656406\n",
       "\n",
       "\n",
       "\n",
       "$vectors\n",
       ":   \n",
       "| -0.7071068 |  0.4472136 | \n",
       "| -0.7071068 | -0.8944272 | \n",
       "\n",
       "\n",
       "\n",
       "\n",
       "\n"
      ],
      "text/plain": [
       "$values\n",
       "[1] -4  2\n",
       "\n",
       "$vectors\n",
       "           [,1]       [,2]\n",
       "[1,] -0.7071068  0.4472136\n",
       "[2,] -0.7071068 -0.8944272\n"
      ]
     },
     "metadata": {},
     "output_type": "display_data"
    }
   ],
   "source": [
    "eigen(A)"
   ]
  },
  {
   "cell_type": "code",
   "execution_count": 8,
   "metadata": {},
   "outputs": [
    {
     "data": {
      "text/html": [
       "<table>\n",
       "<tbody>\n",
       "\t<tr><td>-2</td><td>2 </td></tr>\n",
       "\t<tr><td>-4</td><td>0 </td></tr>\n",
       "</tbody>\n",
       "</table>\n"
      ],
      "text/latex": [
       "\\begin{tabular}{ll}\n",
       "\t -2 & 2 \\\\\n",
       "\t -4 & 0 \\\\\n",
       "\\end{tabular}\n"
      ],
      "text/markdown": [
       "\n",
       "| -2 | 2  | \n",
       "| -4 | 0  | \n",
       "\n",
       "\n"
      ],
      "text/plain": [
       "     [,1] [,2]\n",
       "[1,] -2   2   \n",
       "[2,] -4   0   "
      ]
     },
     "metadata": {},
     "output_type": "display_data"
    }
   ],
   "source": [
    "A = jacobian.full(y = c(0,-1), func = func)\n",
    "A"
   ]
  },
  {
   "cell_type": "code",
   "execution_count": 9,
   "metadata": {},
   "outputs": [
    {
     "data": {
      "text/html": [
       "<dl>\n",
       "\t<dt>$values</dt>\n",
       "\t\t<dd><ol class=list-inline>\n",
       "\t<li>-0.99999999947364+2.64575128029824i</li>\n",
       "\t<li>-0.99999999947364-2.64575128029824i</li>\n",
       "</ol>\n",
       "</dd>\n",
       "\t<dt>$vectors</dt>\n",
       "\t\t<dd><table>\n",
       "<tbody>\n",
       "\t<tr><td>0.2041241-0.5400617i</td><td>0.2041241+0.5400617i</td></tr>\n",
       "\t<tr><td>0.8164966+0.0000000i</td><td>0.8164966+0.0000000i</td></tr>\n",
       "</tbody>\n",
       "</table>\n",
       "</dd>\n",
       "</dl>\n"
      ],
      "text/latex": [
       "\\begin{description}\n",
       "\\item[\\$values] \\begin{enumerate*}\n",
       "\\item -0.99999999947364+2.64575128029824i\n",
       "\\item -0.99999999947364-2.64575128029824i\n",
       "\\end{enumerate*}\n",
       "\n",
       "\\item[\\$vectors] \\begin{tabular}{ll}\n",
       "\t 0.2041241-0.5400617i & 0.2041241+0.5400617i\\\\\n",
       "\t 0.8164966+0.0000000i & 0.8164966+0.0000000i\\\\\n",
       "\\end{tabular}\n",
       "\n",
       "\\end{description}\n"
      ],
      "text/markdown": [
       "$values\n",
       ":   1. -0.99999999947364+2.64575128029824i\n",
       "2. -0.99999999947364-2.64575128029824i\n",
       "\n",
       "\n",
       "\n",
       "$vectors\n",
       ":   \n",
       "| 0.2041241-0.5400617i | 0.2041241+0.5400617i | \n",
       "| 0.8164966+0.0000000i | 0.8164966+0.0000000i | \n",
       "\n",
       "\n",
       "\n",
       "\n",
       "\n"
      ],
      "text/plain": [
       "$values\n",
       "[1] -1+2.645751i -1-2.645751i\n",
       "\n",
       "$vectors\n",
       "                     [,1]                 [,2]\n",
       "[1,] 0.2041241-0.5400617i 0.2041241+0.5400617i\n",
       "[2,] 0.8164966+0.0000000i 0.8164966+0.0000000i\n"
      ]
     },
     "metadata": {},
     "output_type": "display_data"
    }
   ],
   "source": [
    "eigen(A)"
   ]
  },
  {
   "cell_type": "markdown",
   "metadata": {},
   "source": [
    "# Example 2 with Routh-Hurwitz criterion"
   ]
  },
  {
   "cell_type": "markdown",
   "metadata": {},
   "source": [
    "We use $b=1$, then: $a>13/6$ for asymptotic stability"
   ]
  },
  {
   "cell_type": "markdown",
   "metadata": {},
   "source": [
    "$p(\\lambda)=1+3\\lambda+(13/6\\pm\\varepsilon)\\lambda^2+2\\lambda^3+\\lambda^4=0$, where $\\varepsilon$ is some small perturbation"
   ]
  },
  {
   "cell_type": "code",
   "execution_count": 10,
   "metadata": {},
   "outputs": [],
   "source": [
    "epsilon = .01"
   ]
  },
  {
   "cell_type": "code",
   "execution_count": 11,
   "metadata": {},
   "outputs": [
    {
     "data": {
      "text/html": [
       "<ol class=list-inline>\n",
       "\t<li>-0.423575670422502+0i</li>\n",
       "\t<li>-0.00224418760798+1.22550854735448i</li>\n",
       "\t<li>-0.00224418760798-1.22550854735448i</li>\n",
       "\t<li>-1.57193595436154+0i</li>\n",
       "</ol>\n"
      ],
      "text/latex": [
       "\\begin{enumerate*}\n",
       "\\item -0.423575670422502+0i\n",
       "\\item -0.00224418760798+1.22550854735448i\n",
       "\\item -0.00224418760798-1.22550854735448i\n",
       "\\item -1.57193595436154+0i\n",
       "\\end{enumerate*}\n"
      ],
      "text/markdown": [
       "1. -0.423575670422502+0i\n",
       "2. -0.00224418760798+1.22550854735448i\n",
       "3. -0.00224418760798-1.22550854735448i\n",
       "4. -1.57193595436154+0i\n",
       "\n",
       "\n"
      ],
      "text/plain": [
       "[1] -0.4235757+0.000000i -0.0022442+1.225509i -0.0022442-1.225509i\n",
       "[4] -1.5719360+0.000000i"
      ]
     },
     "metadata": {},
     "output_type": "display_data"
    }
   ],
   "source": [
    "polyroot(c(1, 3, 13/6+epsilon, 2, 1))"
   ]
  },
  {
   "cell_type": "code",
   "execution_count": 12,
   "metadata": {},
   "outputs": [
    {
     "data": {
      "text/html": [
       "<ol class=list-inline>\n",
       "\t<li>-0.421732445312612+0i</li>\n",
       "\t<li>0.00223715554831+1.2239839484646i</li>\n",
       "\t<li>0.00223715554831-1.2239839484646i</li>\n",
       "\t<li>-1.582741865784+0i</li>\n",
       "</ol>\n"
      ],
      "text/latex": [
       "\\begin{enumerate*}\n",
       "\\item -0.421732445312612+0i\n",
       "\\item 0.00223715554831+1.2239839484646i\n",
       "\\item 0.00223715554831-1.2239839484646i\n",
       "\\item -1.582741865784+0i\n",
       "\\end{enumerate*}\n"
      ],
      "text/markdown": [
       "1. -0.421732445312612+0i\n",
       "2. 0.00223715554831+1.2239839484646i\n",
       "3. 0.00223715554831-1.2239839484646i\n",
       "4. -1.582741865784+0i\n",
       "\n",
       "\n"
      ],
      "text/plain": [
       "[1] -0.4217324+0.000000i  0.0022372+1.223984i  0.0022372-1.223984i\n",
       "[4] -1.5827419+0.000000i"
      ]
     },
     "metadata": {},
     "output_type": "display_data"
    }
   ],
   "source": [
    "polyroot(c(1, 3, 13/6-epsilon, 2, 1))"
   ]
  }
 ],
 "metadata": {
  "kernelspec": {
   "display_name": "R",
   "language": "R",
   "name": "ir"
  },
  "language_info": {
   "codemirror_mode": "r",
   "file_extension": ".r",
   "mimetype": "text/x-r-source",
   "name": "R",
   "pygments_lexer": "r",
   "version": "3.3.2"
  }
 },
 "nbformat": 4,
 "nbformat_minor": 2
}
